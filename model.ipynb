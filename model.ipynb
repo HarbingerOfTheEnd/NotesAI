{
  "cells": [
    {
      "cell_type": "code",
      "execution_count": null,
      "metadata": {},
      "outputs": [],
      "source": [
        "from pathlib import Path\n",
        "from random import choice, sample, seed\n",
        "from typing import List, Tuple, cast\n",
        "\n",
        "from numpy import ndarray\n",
        "from matplotlib.pyplot import subplots, Figure # type: ignore\n",
        "from PIL.Image import open as open_image\n",
        "from torch.cuda import is_available\n",
        "from torchvision.transforms import Grayscale, Resize, ToTensor, Normalize, Compose # type: ignore\n",
        "from torchvision.datasets import ImageFolder # type: ignore"
      ]
    },
    {
      "cell_type": "code",
      "execution_count": null,
      "metadata": {},
      "outputs": [],
      "source": [
        "DEVICE = \"cuda\" if is_available() else \"cpu\""
      ]
    },
    {
      "cell_type": "code",
      "execution_count": null,
      "metadata": {},
      "outputs": [],
      "source": [
        "path = Path.cwd() / \"data\""
      ]
    },
    {
      "cell_type": "code",
      "execution_count": null,
      "metadata": {},
      "outputs": [],
      "source": [
        "image_list = [*path.glob(\"*/*\")]\n",
        "image_path = choice(image_list)\n",
        "image = open_image(image_path)\n",
        "\n",
        "print(f\"Random Image Path : {image_path}\")\n",
        "print(f\"Image Class : {image_path.parent.stem}\")\n",
        "print(f\"Image Height : {image.height}\")\n",
        "print(f\"Image Width : {image.width}\")\n",
        "image"
      ]
    },
    {
      "cell_type": "code",
      "execution_count": null,
      "metadata": {},
      "outputs": [],
      "source": [
        "transforms = Compose([\n",
        "    Grayscale(num_output_channels=1),\n",
        "    Resize((128, 128)),\n",
        "    ToTensor(),\n",
        "    Normalize((0.5,), (.5,))\n",
        "])\n",
        "\n",
        "transforms"
      ]
    },
    {
      "cell_type": "code",
      "execution_count": null,
      "metadata": {},
      "outputs": [],
      "source": [
        "def plot_transformed_image(image_paths: List[Path], transform: Compose, n: int = 3, r_seed: int = 42):\n",
        "    seed(r_seed)\n",
        "    random_image_paths = sample(image_paths, k=n)\n",
        "    for image_path in random_image_paths:\n",
        "        with open_image(image_path) as f:\n",
        "            fig, ax = cast(Tuple[Figure, ndarray], subplots(1, 2)) # type: ignore\n",
        "            print(type(fig), type(ax)) # type: ignore\n",
        "            ax[0].imshow(f)\n",
        "            ax[0].set_title(f\"Original Size : {f.size}\")\n",
        "            ax[0].axis(False)\n",
        "            transformed_image = transform(f).permute(1,2,0) # type: ignore\n",
        "            ax[1].imshow(transformed_image)\n",
        "            ax[1].set_title(f\"Transformed \\nsize : {transformed_image.shape}\") # type: ignore\n",
        "            ax[1].axis(False)\n",
        "            \n",
        "            fig.suptitle(f\"Class : {image_path.parent.stem}\", fontsize=16) # type: ignore"
      ]
    },
    {
      "cell_type": "code",
      "execution_count": null,
      "metadata": {},
      "outputs": [],
      "source": [
        "plot_transformed_image(image_list, transforms)"
      ]
    },
    {
      "cell_type": "code",
      "execution_count": null,
      "metadata": {},
      "outputs": [],
      "source": [
        "train_data = ImageFolder(\n",
        "    root=path.as_posix(),\n",
        "    transform=transforms,\n",
        "    target_transform=None,\n",
        ")\n",
        "train_data"
      ]
    }
  ],
  "metadata": {
    "kernelspec": {
      "display_name": "Python 3",
      "language": "python",
      "name": "python3"
    },
    "language_info": {
      "codemirror_mode": {
        "name": "ipython",
        "version": 3
      },
      "file_extension": ".py",
      "mimetype": "text/x-python",
      "name": "python",
      "nbconvert_exporter": "python",
      "pygments_lexer": "ipython3",
      "version": "3.12.4"
    }
  },
  "nbformat": 4,
  "nbformat_minor": 4
}
