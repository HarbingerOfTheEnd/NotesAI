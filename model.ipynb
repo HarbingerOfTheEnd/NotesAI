{
  "cells": [
    {
      "cell_type": "code",
      "execution_count": 94,
      "metadata": {},
      "outputs": [],
      "source": [
        "import os \n",
        "from pathlib import Path\n",
        "from random import choice, sample, seed\n",
        "from typing import List, Tuple, cast\n",
        "from cv2 import cvtColor,threshold,COLOR_RGB2GRAY,THRESH_BINARY,THRESH_OTSU\n",
        "import numpy as np\n",
        "from numpy import ndarray,array\n",
        "from matplotlib.pyplot import subplots, Figure ,imshow,title,axis,show # type: ignore\n",
        "from PIL.Image import open as open_image\n",
        "from PIL import Image\n",
        "from torch.cuda import is_available\n",
        "from torchvision.transforms import Grayscale, Resize, ToTensor, Normalize, ToPILImage, Compose\n",
        "from torchvision.datasets import ImageFolder # type: ignore\n",
        "from torch.utils.data import DataLoader,random_split\n",
        "from torchvision import transforms, datasets\n",
        "import pytesseract\n",
        "from pytesseract import image_to_string"
      ]
    },
    {
      "cell_type": "code",
      "execution_count": 95,
      "metadata": {},
      "outputs": [],
      "source": [
        "DEVICE = \"cuda\" if is_available() else \"cpu\"\n",
        "pytesseract.pytesseract.tesseract_cmd = r'D:\\tesseract\\tesseract.exe' "
      ]
    },
    {
      "cell_type": "code",
      "execution_count": 52,
      "metadata": {},
      "outputs": [],
      "source": [
        "path = Path.cwd() / \"data\""
      ]
    },
    {
      "cell_type": "code",
      "execution_count": null,
      "metadata": {},
      "outputs": [],
      "source": [
        "image_list = [*path.glob(\"*/*\")]\n",
        "image_path = choice(image_list)\n",
        "image = open_image(image_path)\n",
        "\n",
        "print(f\"Random Image Path : {image_path}\")\n",
        "print(f\"Image Class : {image_path.parent.stem}\")\n",
        "print(f\"Image Height : {image.height}\")\n",
        "print(f\"Image Width : {image.width}\")\n",
        "image"
      ]
    },
    {
      "cell_type": "code",
      "execution_count": null,
      "metadata": {},
      "outputs": [],
      "source": [
        "transforms = Compose([\n",
        "    Grayscale(num_output_channels=1),\n",
        "    Resize((128, 128)),\n",
        "    ToTensor(),\n",
        "    Normalize((0.5,), (.5,))\n",
        "])\n",
        "\n",
        "transforms"
      ]
    },
    {
      "cell_type": "code",
      "execution_count": 62,
      "metadata": {},
      "outputs": [],
      "source": [
        "def plot_transformed_image(image_paths: List[Path], transform: Compose, n: int = 3, r_seed: int = 42):\n",
        "    seed(r_seed)\n",
        "    random_image_paths = sample(image_paths, k=n)\n",
        "    for image_path in random_image_paths:\n",
        "        with open_image(image_path) as f:\n",
        "            fig, ax = cast(Tuple[Figure, ndarray], subplots(1, 2)) # type: ignore\n",
        "            print(type(fig), type(ax)) # type: ignore\n",
        "            ax[0].imshow(f)\n",
        "            ax[0].set_title(f\"Original Size : {f.size}\")\n",
        "            ax[0].axis(False)\n",
        "            transformed_image = transform(f).permute(1,2,0) # type: ignore\n",
        "            ax[1].imshow(transformed_image)\n",
        "            ax[1].set_title(f\"Transformed \\nsize : {transformed_image.shape}\") # type: ignore\n",
        "            ax[1].axis(False)\n",
        "            \n",
        "            fig.suptitle(f\"Class : {image_path.parent.stem}\", fontsize=16) # type: ignore"
      ]
    },
    {
      "cell_type": "code",
      "execution_count": null,
      "metadata": {},
      "outputs": [],
      "source": [
        "plot_transformed_image(image_list, transforms)"
      ]
    },
    {
      "cell_type": "code",
      "execution_count": null,
      "metadata": {},
      "outputs": [],
      "source": [
        "train_data = ImageFolder(\n",
        "    root=path.as_posix(),\n",
        "    transform=transforms,\n",
        "    target_transform=None,\n",
        ")\n",
        "train_data"
      ]
    },
    {
      "cell_type": "code",
      "execution_count": 58,
      "metadata": {},
      "outputs": [],
      "source": [
        "val_size=int(0.2*len(train_data))\n",
        "train_size=len(train_data)-val_size\n",
        "train_subset,val_subset=random_split(train_data,[train_size,val_size,])"
      ]
    },
    {
      "cell_type": "code",
      "execution_count": null,
      "metadata": {},
      "outputs": [],
      "source": [
        "train_dataloader = DataLoader(dataset = train_subset,\n",
        "                             batch_size = 32,\n",
        "                             shuffle=True,\n",
        "                             num_workers = os.cpu_count())\n",
        "val_dataloader = DataLoader(dataset = val_subset,\n",
        "                           batch_size = 32,\n",
        "                           shuffle = False,\n",
        "                           num_workers = os.cpu_count())\n",
        "\n",
        "train_dataloader , val_dataloader"
      ]
    },
    {
      "cell_type": "code",
      "execution_count": null,
      "metadata": {},
      "outputs": [],
      "source": [
        "image,label = train_data[0]\n",
        "imshow(transforms.ToPILImage()(image),cmap=\"gray\")\n",
        "title(f\"No : {label}\")\n",
        "axis(False)\n",
        "show()"
      ]
    },
    {
      "cell_type": "code",
      "execution_count": 116,
      "metadata": {},
      "outputs": [],
      "source": [
        "def preprocess_img(img):\n",
        "    if isinstance(img, str):\n",
        "        img = Image.open(img)  \n",
        "    if img.mode != 'RGB':\n",
        "        img = img.convert('RGB')\n",
        "    img_arr = np.array(img)  \n",
        "    gray_img = cvtColor(img_arr, COLOR_RGB2GRAY)\n",
        "    _, thresh_image = threshold(gray_img, 0, 255, THRESH_BINARY + THRESH_OTSU)\n",
        "    return thresh_image\n",
        "\n",
        "def extract_text(img):\n",
        "    preprocessed_img = preprocess_img(img)\n",
        "    pil_image = Image.fromarray(preprocessed_img)\n",
        "    text =image_to_string(pil_image,config='--psm 11')\n",
        "    return text.strip()\n"
      ]
    },
    {
      "cell_type": "code",
      "execution_count": null,
      "metadata": {},
      "outputs": [],
      "source": [
        "img_path_list=[*path.glob(\"*/*\")]\n",
        "random_img_path=choice(img_path_list)\n",
        "img=Image.open(random_img_path)\n",
        "extracted_txt=extract_text(img)\n",
        "print(f\"Extracted Image : {extracted_txt}\")\n"
      ]
    },
    {
      "cell_type": "code",
      "execution_count": null,
      "metadata": {},
      "outputs": [],
      "source": [
        "img"
      ]
    }
  ],
  "metadata": {
    "kernelspec": {
      "display_name": "Python 3",
      "language": "python",
      "name": "python3"
    },
    "language_info": {
      "codemirror_mode": {
        "name": "ipython",
        "version": 3
      },
      "file_extension": ".py",
      "mimetype": "text/x-python",
      "name": "python",
      "nbconvert_exporter": "python",
      "pygments_lexer": "ipython3",
      "version": "3.12.3"
    }
  },
  "nbformat": 4,
  "nbformat_minor": 4
}
